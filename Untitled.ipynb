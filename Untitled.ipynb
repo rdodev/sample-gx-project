{
 "cells": [
  {
   "cell_type": "code",
   "execution_count": 2,
   "id": "990a8056",
   "metadata": {},
   "outputs": [],
   "source": [
    "import great_expectations as gx\n",
    "context = gx.get_context()"
   ]
  },
  {
   "cell_type": "code",
   "execution_count": 3,
   "id": "ef917acf",
   "metadata": {},
   "outputs": [],
   "source": [
    "validator = context.sources.pandas_default.read_csv(\n",
    "    filepath_or_buffer=\"https://raw.githubusercontent.com/great-expectations/gx_tutorials/main/data/yellow_tripdata_sample_2019-01.csv\"\n",
    ")"
   ]
  },
  {
   "cell_type": "code",
   "execution_count": 6,
   "id": "f24c24e6",
   "metadata": {},
   "outputs": [
    {
     "name": "stdout",
     "output_type": "stream",
     "text": [
      "\n"
     ]
    },
    {
     "data": {
      "application/vnd.jupyter.widget-view+json": {
       "model_id": "db0c52091a4b4a2787cc043c9f19ac46",
       "version_major": 2,
       "version_minor": 0
      },
      "text/plain": [
       "Generating Expectations:   0%|          | 0/1 [00:00<?, ?it/s]"
      ]
     },
     "metadata": {},
     "output_type": "display_data"
    },
    {
     "data": {
      "application/vnd.jupyter.widget-view+json": {
       "model_id": "a815a0ad500c4332ac0019e228697527",
       "version_major": 2,
       "version_minor": 0
      },
      "text/plain": [
       "Calculating Metrics:   0%|          | 0/2 [00:00<?, ?it/s]"
      ]
     },
     "metadata": {},
     "output_type": "display_data"
    },
    {
     "data": {
      "application/vnd.jupyter.widget-view+json": {
       "model_id": "a3df76b3bad146b0b94b951d5d979566",
       "version_major": 2,
       "version_minor": 0
      },
      "text/plain": [
       "Calculating Metrics:   0%|          | 0/1 [00:00<?, ?it/s]"
      ]
     },
     "metadata": {},
     "output_type": "display_data"
    },
    {
     "data": {
      "application/vnd.jupyter.widget-view+json": {
       "model_id": "",
       "version_major": 2,
       "version_minor": 0
      },
      "text/plain": [
       "Profiling Dataset:         0%|          | 0/1 [00:00<?, ?it/s]"
      ]
     },
     "metadata": {},
     "output_type": "display_data"
    },
    {
     "data": {
      "application/vnd.jupyter.widget-view+json": {
       "model_id": "4bbf6822e59040d6a007a1f459694a99",
       "version_major": 2,
       "version_minor": 0
      },
      "text/plain": [
       "Calculating Metrics:   0%|          | 0/4 [00:00<?, ?it/s]"
      ]
     },
     "metadata": {},
     "output_type": "display_data"
    },
    {
     "data": {
      "application/vnd.jupyter.widget-view+json": {
       "model_id": "d829758317254bfb834d1fd8b7744eed",
       "version_major": 2,
       "version_minor": 0
      },
      "text/plain": [
       "Calculating Metrics:   0%|          | 0/8 [00:00<?, ?it/s]"
      ]
     },
     "metadata": {},
     "output_type": "display_data"
    },
    {
     "data": {
      "text/plain": [
       "{\n",
       "  \"success\": true,\n",
       "  \"meta\": {},\n",
       "  \"expectation_config\": {\n",
       "    \"meta\": {\n",
       "      \"auto_generated_at\": \"20230406T154909.920563Z\",\n",
       "      \"great_expectations_version\": \"0.16.1\"\n",
       "    },\n",
       "    \"expectation_type\": \"expect_column_values_to_be_in_set\",\n",
       "    \"kwargs\": {\n",
       "      \"column\": \"pickup_location_id\",\n",
       "      \"value_set\": [\n",
       "        1,\n",
       "        4,\n",
       "        7,\n",
       "        10,\n",
       "        11,\n",
       "        12,\n",
       "        13,\n",
       "        14,\n",
       "        17,\n",
       "        22,\n",
       "        24,\n",
       "        25,\n",
       "        33,\n",
       "        35,\n",
       "        36,\n",
       "        37,\n",
       "        40,\n",
       "        41,\n",
       "        42,\n",
       "        43,\n",
       "        45,\n",
       "        47,\n",
       "        48,\n",
       "        49,\n",
       "        50,\n",
       "        52,\n",
       "        53,\n",
       "        55,\n",
       "        56,\n",
       "        61,\n",
       "        62,\n",
       "        63,\n",
       "        65,\n",
       "        66,\n",
       "        68,\n",
       "        70,\n",
       "        74,\n",
       "        75,\n",
       "        76,\n",
       "        79,\n",
       "        80,\n",
       "        81,\n",
       "        82,\n",
       "        83,\n",
       "        85,\n",
       "        87,\n",
       "        88,\n",
       "        89,\n",
       "        90,\n",
       "        91,\n",
       "        92,\n",
       "        93,\n",
       "        95,\n",
       "        97,\n",
       "        98,\n",
       "        100,\n",
       "        101,\n",
       "        102,\n",
       "        106,\n",
       "        107,\n",
       "        112,\n",
       "        113,\n",
       "        114,\n",
       "        116,\n",
       "        123,\n",
       "        125,\n",
       "        127,\n",
       "        129,\n",
       "        131,\n",
       "        132,\n",
       "        133,\n",
       "        134,\n",
       "        137,\n",
       "        138,\n",
       "        140,\n",
       "        141,\n",
       "        142,\n",
       "        143,\n",
       "        144,\n",
       "        145,\n",
       "        146,\n",
       "        148,\n",
       "        151,\n",
       "        152,\n",
       "        155,\n",
       "        158,\n",
       "        161,\n",
       "        162,\n",
       "        163,\n",
       "        164,\n",
       "        166,\n",
       "        167,\n",
       "        168,\n",
       "        169,\n",
       "        170,\n",
       "        174,\n",
       "        177,\n",
       "        179,\n",
       "        181,\n",
       "        186,\n",
       "        188,\n",
       "        189,\n",
       "        192,\n",
       "        193,\n",
       "        194,\n",
       "        195,\n",
       "        196,\n",
       "        197,\n",
       "        198,\n",
       "        202,\n",
       "        205,\n",
       "        209,\n",
       "        210,\n",
       "        211,\n",
       "        213,\n",
       "        215,\n",
       "        216,\n",
       "        217,\n",
       "        219,\n",
       "        222,\n",
       "        223,\n",
       "        224,\n",
       "        225,\n",
       "        226,\n",
       "        228,\n",
       "        229,\n",
       "        230,\n",
       "        231,\n",
       "        232,\n",
       "        233,\n",
       "        234,\n",
       "        236,\n",
       "        237,\n",
       "        238,\n",
       "        239,\n",
       "        242,\n",
       "        244,\n",
       "        246,\n",
       "        247,\n",
       "        248,\n",
       "        249,\n",
       "        254,\n",
       "        255,\n",
       "        256,\n",
       "        257,\n",
       "        260,\n",
       "        261,\n",
       "        262,\n",
       "        263,\n",
       "        264,\n",
       "        265\n",
       "      ],\n",
       "      \"mostly\": 1.0\n",
       "    }\n",
       "  },\n",
       "  \"exception_info\": {\n",
       "    \"raised_exception\": false,\n",
       "    \"exception_traceback\": null,\n",
       "    \"exception_message\": null\n",
       "  },\n",
       "  \"result\": {\n",
       "    \"element_count\": 10000,\n",
       "    \"unexpected_count\": 0,\n",
       "    \"unexpected_percent\": 0.0,\n",
       "    \"partial_unexpected_list\": [],\n",
       "    \"missing_count\": 0,\n",
       "    \"missing_percent\": 0.0,\n",
       "    \"unexpected_percent_total\": 0.0,\n",
       "    \"unexpected_percent_nonmissing\": 0.0\n",
       "  }\n",
       "}"
      ]
     },
     "execution_count": 6,
     "metadata": {},
     "output_type": "execute_result"
    }
   ],
   "source": [
    "validator.expect_column_values_to_be_in_set(\"pickup_location_id\", auto=True)"
   ]
  },
  {
   "cell_type": "code",
   "execution_count": null,
   "id": "87c84681",
   "metadata": {},
   "outputs": [],
   "source": []
  }
 ],
 "metadata": {
  "kernelspec": {
   "display_name": "Python 3 (ipykernel)",
   "language": "python",
   "name": "python3"
  },
  "language_info": {
   "codemirror_mode": {
    "name": "ipython",
    "version": 3
   },
   "file_extension": ".py",
   "mimetype": "text/x-python",
   "name": "python",
   "nbconvert_exporter": "python",
   "pygments_lexer": "ipython3",
   "version": "3.9.10"
  }
 },
 "nbformat": 4,
 "nbformat_minor": 5
}
